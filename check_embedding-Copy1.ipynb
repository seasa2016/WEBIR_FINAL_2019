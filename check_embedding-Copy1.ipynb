{
 "cells": [
  {
   "cell_type": "code",
   "execution_count": 25,
   "metadata": {},
   "outputs": [
    {
     "name": "stderr",
     "output_type": "stream",
     "text": [
      "/home/seasa/anaconda3/envs/pytorch/lib/python3.6/site-packages/smart_open/ssh.py:34: UserWarning: paramiko missing, opening SSH/SCP/SFTP paths will be disabled.  `pip install paramiko` to suppress\n",
      "  warnings.warn('paramiko missing, opening SSH/SCP/SFTP paths will be disabled.  `pip install paramiko` to suppress')\n"
     ]
    }
   ],
   "source": [
    "import codecs\n",
    "import numpy as np\n",
    "import gensim"
   ]
  },
  {
   "cell_type": "code",
   "execution_count": 1,
   "metadata": {},
   "outputs": [],
   "source": [
    "data = {}\n",
    "with open('./analysis/vocab') as f:\n",
    "    for line in f:\n",
    "        line = line.split()\n",
    "        data[line[0]] = int(line[1])"
   ]
  },
  {
   "cell_type": "code",
   "execution_count": 2,
   "metadata": {},
   "outputs": [],
   "source": [
    "mapping = []"
   ]
  },
  {
   "cell_type": "code",
   "execution_count": 26,
   "metadata": {},
   "outputs": [],
   "source": [
    "model = gensim.models.KeyedVectors.load_word2vec_format('./embedding/GoogleNews-vectors-negative300.bin',binary=True) "
   ]
  },
  {
   "cell_type": "code",
   "execution_count": 30,
   "metadata": {},
   "outputs": [],
   "source": [
    "ins,out=0,0\n",
    "temp = []\n",
    "for key in data:\n",
    "    if(key in model):\n",
    "        ins += data[key]\n",
    "    else:\n",
    "        ins += data[key]\n",
    "        temp.append((key,data[key]))"
   ]
  },
  {
   "cell_type": "code",
   "execution_count": 32,
   "metadata": {},
   "outputs": [
    {
     "data": {
      "text/plain": [
       "[('.', 28644184),\n",
       " (',', 25669672),\n",
       " ('to', 11765243),\n",
       " ('a', 10440410),\n",
       " ('and', 10298461),\n",
       " ('of', 9688997),\n",
       " ('-', 6673699),\n",
       " ('”', 3175358),\n",
       " (':', 2608659),\n",
       " ('—', 1516752),\n",
       " (')', 1400229),\n",
       " ('(', 1373208),\n",
       " (\"'\", 1357140),\n",
       " ('\"', 880445),\n",
       " ('?', 807212),\n",
       " ('000', 618443),\n",
       " ('it’s', 516104),\n",
       " (';', 477945),\n",
       " ('10', 369289),\n",
       " ('“i', 325595),\n",
       " ('don’t', 316237),\n",
       " ('30', 307849),\n",
       " ('“the', 294077),\n",
       " ('/', 276199),\n",
       " ('[', 234149),\n",
       " (']', 234068),\n",
       " ('11', 231723),\n",
       " ('that’s', 228057),\n",
       " ('12', 189087),\n",
       " ('didn’t', 183080),\n",
       " ('!', 182890),\n",
       " ('20', 171535),\n",
       " ('he’s', 168969),\n",
       " ('15', 165004),\n",
       " ('“we', 164853),\n",
       " ('i’m', 163063),\n",
       " ('–', 130061),\n",
       " ('doesn’t', 129577),\n",
       " ('703', 126301),\n",
       " ('there’s', 124298),\n",
       " ('trump’s', 121560),\n",
       " ('can’t', 117663),\n",
       " ('900', 113355),\n",
       " ('we’re', 112152),\n",
       " ('25', 110365),\n",
       " ('13', 107096),\n",
       " ('you’re', 106213),\n",
       " ('18', 105946),\n",
       " ('2012', 105820),\n",
       " ('14', 104483),\n",
       " ('’', 103771),\n",
       " ('50', 101258),\n",
       " ('16', 100726),\n",
       " ('“it’s', 99038),\n",
       " ('they’re', 98922),\n",
       " ('“it', 97892),\n",
       " ('100', 96126),\n",
       " ('2014', 94163),\n",
       " ('17', 90902),\n",
       " ('500', 89549),\n",
       " ('isn’t', 88420),\n",
       " ('2016', 81818),\n",
       " ('24', 80635),\n",
       " ('wasn’t', 79713),\n",
       " ('2013', 79655),\n",
       " ('40', 76570),\n",
       " ('21', 75257),\n",
       " ('…', 74850),\n",
       " ('19', 74579),\n",
       " ('2015', 72728),\n",
       " ('“a', 72677),\n",
       " ('22', 71273),\n",
       " ('i’ve', 68455),\n",
       " ('“this', 67188),\n",
       " ('|', 66013),\n",
       " ('28', 65773),\n",
       " ('2011', 65361),\n",
       " ('23', 64661),\n",
       " ('won’t', 64248),\n",
       " ('27', 63536),\n",
       " ('202', 63493),\n",
       " ('26', 63457),\n",
       " ('2010', 61696),\n",
       " ('301', 59642),\n",
       " ('“you', 59522),\n",
       " ('“he', 57534),\n",
       " ('29', 57065),\n",
       " ('“if', 56241),\n",
       " ('200', 55619),\n",
       " ('45', 55539),\n",
       " ('2008', 54710),\n",
       " ('we’ve', 54052),\n",
       " ('obama’s', 51945),\n",
       " ('what’s', 51420),\n",
       " ('35', 50049),\n",
       " ('“i’m', 48874),\n",
       " ('31', 47715),\n",
       " ('“but', 47602),\n",
       " ('60', 45265),\n",
       " ('loudoun', 44329)]"
      ]
     },
     "execution_count": 32,
     "metadata": {},
     "output_type": "execute_result"
    }
   ],
   "source": [
    "temp[:100]"
   ]
  },
  {
   "cell_type": "code",
   "execution_count": 17,
   "metadata": {},
   "outputs": [
    {
     "data": {
      "text/plain": [
       "'!\"#$%&\\'()*+,-./:;<=>?@[\\\\]^_`{|}~'"
      ]
     },
     "execution_count": 17,
     "metadata": {},
     "output_type": "execute_result"
    }
   ],
   "source": [
    "import string\n",
    "string.punctuation"
   ]
  },
  {
   "cell_type": "code",
   "execution_count": null,
   "metadata": {},
   "outputs": [],
   "source": []
  }
 ],
 "metadata": {
  "kernelspec": {
   "display_name": "Python 3",
   "language": "python",
   "name": "python3"
  },
  "language_info": {
   "codemirror_mode": {
    "name": "ipython",
    "version": 3
   },
   "file_extension": ".py",
   "mimetype": "text/x-python",
   "name": "python",
   "nbconvert_exporter": "python",
   "pygments_lexer": "ipython3",
   "version": "3.6.8"
  }
 },
 "nbformat": 4,
 "nbformat_minor": 2
}
