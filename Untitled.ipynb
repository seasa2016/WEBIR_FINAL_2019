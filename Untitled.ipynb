{
 "cells": [
  {
   "cell_type": "code",
   "execution_count": 1,
   "metadata": {},
   "outputs": [],
   "source": [
    "import json\n",
    "import string\n",
    "from bs4 import BeautifulSoup"
   ]
  },
  {
   "cell_type": "code",
   "execution_count": 9,
   "metadata": {},
   "outputs": [],
   "source": [
    "def count(obj,total,index):\n",
    "    #build up inverted file\n",
    "    try:\n",
    "        for data in obj['contents']:\n",
    "            if(data is None):\n",
    "                continue\n",
    "            if('subtype' in data):\n",
    "                data['content'] = data['content'].lower()\n",
    "\n",
    "                soup = BeautifulSoup(data['content'], 'html.parser')\n",
    "                qq = soup.text\n",
    "                temp = ''\n",
    "                print(qq)\n",
    "                for w in qq:\n",
    "                    if(w in string.punctuation):\n",
    "                        temp += ' '\n",
    "                    temp += w\n",
    "\n",
    "                    if(w in string.punctuation):\n",
    "                        temp += ' '\n",
    "                local = {}\n",
    "                for w in temp.split():\n",
    "                    if(len(w)):\n",
    "                        try:\n",
    "                            local[w] += 1\n",
    "                        except:\n",
    "                            local[w] = 1\n",
    "                for w in local:\n",
    "                    try:\n",
    "                        total[w]['docs'][index] += local[w]\n",
    "                    except:\n",
    "                        total[w] = {}\n",
    "                        total[w]['docs'] = {index:local[w]}\n",
    "        return total\n",
    "    except Exception as e:\n",
    "        print(index,obj)\n",
    "        print(e)"
   ]
  },
  {
   "cell_type": "code",
   "execution_count": 2,
   "metadata": {},
   "outputs": [],
   "source": [
    "total = {}\n",
    "f_out = open('./model/mapping','w')\n",
    "with open('./WashingtonPost.v2/data/TREC_Washington_Post_collection.v2.jl', 'r') as f:\n",
    "    for i,line in enumerate(f):\n",
    "        obj = json.loads(line)\n",
    "        #f_out.write(\"{0}\\t{1}\\t{2}\\n\".format(i,obj['id'],obj['article_url']))\n",
    "        #count(obj,total,i)\n",
    "        break"
   ]
  },
  {
   "cell_type": "code",
   "execution_count": 11,
   "metadata": {},
   "outputs": [
    {
     "data": {
      "text/plain": [
       "'“There’s just some things that we were held back from being able to show,” Boykin said, “that we’re just as good as [South Carolina wide receiver] <a href=\"http://stats.washingtonpost.com/cfb/players.asp?id=180564&team=70\" title=\"stats.washingtonpost.com\">Alshon Jeffrey</a> and [Oklahoma State wide receiver] <a href=\"http://stats.washingtonpost.com/cfb/players.asp?id=166655&team=25\" title=\"stats.washingtonpost.com\">Justin Blackmon</a>. I feel like they’re great athletes, but at the same time we’re right up there with them.'"
      ]
     },
     "execution_count": 11,
     "metadata": {},
     "output_type": "execute_result"
    }
   ],
   "source": [
    "obj['contents'][14]['content']"
   ]
  },
  {
   "cell_type": "code",
   "execution_count": 12,
   "metadata": {},
   "outputs": [],
   "source": [
    "soup = BeautifulSoup(obj['contents'][14]['content'], 'html.parser')\n",
    "qq = soup.text"
   ]
  },
  {
   "cell_type": "code",
   "execution_count": 16,
   "metadata": {},
   "outputs": [
    {
     "data": {
      "text/plain": [
       "[<a href=\"http://stats.washingtonpost.com/cfb/players.asp?id=180564&amp;team=70\" title=\"stats.washingtonpost.com\">Alshon Jeffrey</a>,\n",
       " <a href=\"http://stats.washingtonpost.com/cfb/players.asp?id=166655&amp;team=25\" title=\"stats.washingtonpost.com\">Justin Blackmon</a>]"
      ]
     },
     "execution_count": 16,
     "metadata": {},
     "output_type": "execute_result"
    }
   ],
   "source": []
  },
  {
   "cell_type": "code",
   "execution_count": 18,
   "metadata": {},
   "outputs": [
    {
     "name": "stdout",
     "output_type": "stream",
     "text": [
      "Alshon Jeffrey\n",
      "Justin Blackmon\n"
     ]
    }
   ],
   "source": [
    "for i in soup.find_all('a'):\n",
    "    print(i.text)"
   ]
  },
  {
   "cell_type": "code",
   "execution_count": null,
   "metadata": {},
   "outputs": [],
   "source": []
  }
 ],
 "metadata": {
  "kernelspec": {
   "display_name": "Python 3",
   "language": "python",
   "name": "python3"
  },
  "language_info": {
   "codemirror_mode": {
    "name": "ipython",
    "version": 3
   },
   "file_extension": ".py",
   "mimetype": "text/x-python",
   "name": "python",
   "nbconvert_exporter": "python",
   "pygments_lexer": "ipython3",
   "version": "3.7.3"
  }
 },
 "nbformat": 4,
 "nbformat_minor": 2
}
