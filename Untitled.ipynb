{
 "cells": [
  {
   "cell_type": "code",
   "execution_count": 24,
   "metadata": {},
   "outputs": [],
   "source": [
    "import json\n",
    "import string"
   ]
  },
  {
   "cell_type": "code",
   "execution_count": 32,
   "metadata": {},
   "outputs": [],
   "source": [
    "def count(obj,total):\n",
    "    #build up inverted file\n",
    "    for data in obj['contents']:\n",
    "        if('subtype' in data):\n",
    "            data['content'] = data['content'].lower()\n",
    "            temp = ''\n",
    "            i=0\n",
    "            while(i<len(data['content'])):\n",
    "                if(data['content'][i]=='<'):\n",
    "                    while(data['content'][i]!='>'):\n",
    "                        i+=1\n",
    "                    i+=1\n",
    "                if(data['content'][i] in string.punctuation and data['content'][i-1]!=' '):\n",
    "                    temp += ' '\n",
    "                temp+=data['content'][i]\n",
    "                if(i<len(data['content'])-1):\n",
    "                    if(data['content'][i] in string.punctuation and data['content'][i+1]!=' '):\n",
    "                        temp += ' '\n",
    "                i+=1\n",
    "            for w in temp.split():\n",
    "                if(len(w)):\n",
    "                    try:\n",
    "                        total[w] += 1\n",
    "                    except:\n",
    "                        total[w] = 1"
   ]
  },
  {
   "cell_type": "code",
   "execution_count": 33,
   "metadata": {},
   "outputs": [],
   "source": [
    "total = {}\n",
    "with open('./WashingtonPost.v2/data/TREC_Washington_Post_collection.v2.jl', 'r') as f:\n",
    "    for i,line in enumertate(f):\n",
    "        obj = json.loads(line)\n",
    "        count(obj,total)\n",
    "        break"
   ]
  },
  {
   "cell_type": "code",
   "execution_count": 8,
   "metadata": {},
   "outputs": [
    {
     "name": "stdout",
     "output_type": "stream",
     "text": [
      "https://www.washingtonpost.com/sports/colleges/danny-coale-jarrett-boykin-are-a-perfect-1-2-punch-for-virginia-tech/2011/12/31/gIQAAaW4SP_story.html\n"
     ]
    }
   ],
   "source": [
    "print(obj['article_url'])"
   ]
  },
  {
   "cell_type": "code",
   "execution_count": 36,
   "metadata": {},
   "outputs": [
    {
     "data": {
      "text/plain": [
       "'{\"role\": \"Reporter\", \"type\": \"author_info\", \"name\": \"Mark Giannotto\", \"bio\": \"Mark Giannotto is a Montgomery County native who covers high school sports for The Washington Post. He previously covered Virginia and Virginia Tech football for five years.\"}'"
      ]
     },
     "execution_count": 36,
     "metadata": {},
     "output_type": "execute_result"
    }
   ],
   "source": [
    "json.dumps(data)"
   ]
  },
  {
   "cell_type": "code",
   "execution_count": null,
   "metadata": {},
   "outputs": [],
   "source": []
  }
 ],
 "metadata": {
  "kernelspec": {
   "display_name": "Python 3",
   "language": "python",
   "name": "python3"
  },
  "language_info": {
   "codemirror_mode": {
    "name": "ipython",
    "version": 3
   },
   "file_extension": ".py",
   "mimetype": "text/x-python",
   "name": "python",
   "nbconvert_exporter": "python",
   "pygments_lexer": "ipython3",
   "version": "3.7.3"
  }
 },
 "nbformat": 4,
 "nbformat_minor": 2
}
